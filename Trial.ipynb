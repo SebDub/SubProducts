{
 "cells": [
  {
   "cell_type": "code",
   "execution_count": 2,
   "metadata": {},
   "outputs": [],
   "source": [
    "import sys"
   ]
  },
  {
   "cell_type": "code",
   "execution_count": 3,
   "metadata": {},
   "outputs": [],
   "source": [
    "sys.path.insert(1, 'code')"
   ]
  },
  {
   "cell_type": "code",
   "execution_count": 3,
   "metadata": {},
   "outputs": [],
   "source": [
    "#from DownloadData import DownloadData, UnzipData"
   ]
  },
  {
   "cell_type": "code",
   "execution_count": 4,
   "metadata": {},
   "outputs": [],
   "source": [
    "#DownloadData()\n",
    "#UnzipData()"
   ]
  },
  {
   "cell_type": "code",
   "execution_count": 4,
   "metadata": {},
   "outputs": [],
   "source": [
    "from CoocMat import GettingCoocurenceMatrix"
   ]
  },
  {
   "cell_type": "code",
   "execution_count": 5,
   "metadata": {},
   "outputs": [
    {
     "name": "stdout",
     "output_type": "stream",
     "text": [
      "Making dictionnaries\n",
      "Maping dictionnaries\n",
      "Making Sparse Mat Order vs Product\n",
      "Making coocurences matrix\n"
     ]
    }
   ],
   "source": [
    "CooccurencesMat = GettingCoocurenceMatrix()"
   ]
  },
  {
   "cell_type": "code",
   "execution_count": 6,
   "metadata": {},
   "outputs": [],
   "source": [
    "MatAsCoo = CooccurencesMat.tocoo()"
   ]
  },
  {
   "cell_type": "code",
   "execution_count": 7,
   "metadata": {},
   "outputs": [
    {
     "data": {
      "text/plain": [
       "scipy.sparse.coo.coo_matrix"
      ]
     },
     "execution_count": 7,
     "metadata": {},
     "output_type": "execute_result"
    }
   ],
   "source": [
    "type(MatAsCoo)"
   ]
  },
  {
   "cell_type": "code",
   "execution_count": 8,
   "metadata": {},
   "outputs": [],
   "source": [
    "ind1=MatAsCoo.row\n",
    "ind2=MatAsCoo.col\n",
    "val=MatAsCoo.data"
   ]
  },
  {
   "cell_type": "code",
   "execution_count": 18,
   "metadata": {},
   "outputs": [],
   "source": [
    "import numpy as np\n",
    "\n",
    "from tensorflow.keras.layers import Input, Embedding, Dot, Reshape, Add\n",
    "from tensorflow.keras.models import Model\n",
    "from tensorflow.keras.optimizers import Adam\n",
    "import tensorflow.keras.backend as K\n",
    "import numpy as np\n"
   ]
  },
  {
   "cell_type": "code",
   "execution_count": 12,
   "metadata": {},
   "outputs": [],
   "source": [
    "CENTRAL_EMBEDDINGS = 'central_embeddings'\n",
    "CONTEXT_EMBEDDINGS = 'context_embeddings'\n",
    "CENTRAL_BIASES = 'central_biases'\n",
    "CONTEXT_BIASES = 'context_biases'\n",
    "\n",
    "AGGREGATED_EMBEDDINGS = 'agg_embeddings'\n",
    "CORRELATION_MATRIX = 'corr_matrix'"
   ]
  },
  {
   "cell_type": "code",
   "execution_count": 14,
   "metadata": {},
   "outputs": [],
   "source": [
    "X_MAX = 100\n",
    "a = 3.0 / 4.0\n",
    "\n",
    "\n",
    "def glove_model(vocab_size=10, vector_dim=3):\n",
    "    \"\"\"\n",
    "    A Keras implementation of the GloVe architecture\n",
    "    :param vocab_size: The number of distinct words\n",
    "    :param vector_dim: The vector dimension of each word\n",
    "    :return:\n",
    "    \"\"\"\n",
    "    input_target = Input((1,), name='central_word_id')\n",
    "    input_context = Input((1,), name='context_word_id')\n",
    "\n",
    "    central_embedding = Embedding(vocab_size, vector_dim, input_length=1, name=CENTRAL_EMBEDDINGS)\n",
    "    central_bias = Embedding(vocab_size, 1, input_length=1, name=CENTRAL_BIASES)\n",
    "\n",
    "    context_embedding = Embedding(vocab_size, vector_dim, input_length=1, name=CONTEXT_EMBEDDINGS)\n",
    "    context_bias = Embedding(vocab_size, 1, input_length=1, name=CONTEXT_BIASES)\n",
    "\n",
    "    vector_target = central_embedding(input_target)\n",
    "    vector_context = context_embedding(input_context)\n",
    "\n",
    "    bias_target = central_bias(input_target)\n",
    "    bias_context = context_bias(input_context)\n",
    "\n",
    "    dot_product = Dot(axes=-1)([vector_target, vector_context])\n",
    "    dot_product = Reshape((1, ))(dot_product)\n",
    "    bias_target = Reshape((1,))(bias_target)\n",
    "    bias_context = Reshape((1,))(bias_context)\n",
    "\n",
    "    prediction = Add()([dot_product, bias_target, bias_context])\n",
    "\n",
    "    model = Model(inputs=[input_target, input_context], outputs=prediction)\n",
    "    model.compile(loss=custom_loss, optimizer=Adam())\n",
    "\n",
    "    return model\n",
    "\n",
    "\n",
    "def custom_loss(y_true, y_pred):\n",
    "    \"\"\"\n",
    "    This is GloVe's loss function\n",
    "    :param y_true: The actual values, in our case the 'observed' X_ij co-occurrence values\n",
    "    :param y_pred: The predicted (log-)co-occurrences from the model\n",
    "    :return: The loss associated with this batch\n",
    "    \"\"\"\n",
    "    return K.sum(K.pow(K.clip(y_true / X_MAX, 0.0, 1.0), a) * K.square(y_pred - K.log(y_true)), axis=-1)"
   ]
  },
  {
   "cell_type": "code",
   "execution_count": 21,
   "metadata": {},
   "outputs": [],
   "source": [
    " model = glove_model(MatAsCoo.shape[0] + 1, vector_dim=30)"
   ]
  },
  {
   "cell_type": "code",
   "execution_count": 25,
   "metadata": {},
   "outputs": [],
   "source": [
    "#ind1.tolist()"
   ]
  },
  {
   "cell_type": "code",
   "execution_count": null,
   "metadata": {},
   "outputs": [],
   "source": [
    "model.fit([ind1.tolist(), ind2.tolist()], val.tolist(), epochs=5, batch_size=512)"
   ]
  }
 ],
 "metadata": {
  "kernelspec": {
   "display_name": "Python [conda env:SubProd] *",
   "language": "python",
   "name": "conda-env-SubProd-py"
  },
  "language_info": {
   "codemirror_mode": {
    "name": "ipython",
    "version": 3
   },
   "file_extension": ".py",
   "mimetype": "text/x-python",
   "name": "python",
   "nbconvert_exporter": "python",
   "pygments_lexer": "ipython3",
   "version": "3.7.5"
  }
 },
 "nbformat": 4,
 "nbformat_minor": 4
}
